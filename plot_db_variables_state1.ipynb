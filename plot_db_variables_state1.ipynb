{
 "cells": [
  {
   "cell_type": "code",
   "execution_count": 1,
   "id": "ca169d1f",
   "metadata": {
    "tags": []
   },
   "outputs": [],
   "source": [
    "import matplotlib.pyplot as plt\n",
    "import matplotlib.dates as mdates\n",
    "import numpy as np\n",
    "from datetime import datetime, timedelta\n",
    "import pymongo\n",
    "import pickle\n",
    "import bson\n",
    "import subprocess\n",
    "\n",
    "# Other external scripts\n",
    "import lst1_mongodb_example\n",
    "import utils\n",
    "\n",
    "client_tcu  = pymongo.MongoClient(\"localhost:27017\")\n",
    "client_caco = pymongo.MongoClient(\"localhost:27018\")"
   ]
  },
  {
   "cell_type": "markdown",
   "id": "10594734",
   "metadata": {},
   "source": [
    "#### TCU properties:"
   ]
  },
  {
   "cell_type": "code",
   "execution_count": 2,
   "id": "0ca0d477",
   "metadata": {
    "scrolled": true,
    "tags": []
   },
   "outputs": [],
   "source": [
    "# !python lst1_mongodb_example.py --list-available"
   ]
  },
  {
   "cell_type": "markdown",
   "id": "35af9dcb",
   "metadata": {},
   "source": [
    "#### CaCo databases and collections:"
   ]
  },
  {
   "cell_type": "code",
   "execution_count": 3,
   "id": "f14a3ee3",
   "metadata": {
    "scrolled": true,
    "tags": []
   },
   "outputs": [],
   "source": [
    "# client_caco = pymongo.MongoClient(\"localhost:27018\")\n",
    "\n",
    "# all_databases = np.sort(client_caco.list_database_names())\n",
    "\n",
    "# print(f\"--- {'':^40s} ---\")\n",
    "# print(f\"--- {'Available CaCo databases and collections':^40s} ---\")\n",
    "# print(f\"--- {'':^40s} ---\")\n",
    "# for database in all_databases:\n",
    "#     print(f\"\\n--- {f'Database - {database}':^40s} ---\")\n",
    "    \n",
    "#     all_collections = np.sort(client_caco[database].list_collection_names())\n",
    "#     for i, collection in enumerate(all_collections):\n",
    "#         print(f\"{i:4d} : {collection}\")"
   ]
  },
  {
   "cell_type": "markdown",
   "id": "2de50924",
   "metadata": {},
   "source": [
    "#### All properties from CaCo database:"
   ]
  },
  {
   "cell_type": "code",
   "execution_count": 4,
   "id": "75c1fa4e",
   "metadata": {
    "scrolled": true,
    "tags": []
   },
   "outputs": [],
   "source": [
    "# # Selecting CaCo database\n",
    "# caco_db = client_caco.CACO\n",
    "\n",
    "# dict_caco_names = {}\n",
    "# all_collections = np.sort(caco_db.list_collection_names())\n",
    "# for coll_name in all_collections:\n",
    "#     coll = caco_db[coll_name]\n",
    "#     if coll not in [\"STATE\", \"RUN_INFORMATION\"] and \"week\" in coll_name:\n",
    "    \n",
    "#         print(f\"\\n--- {f'Collection - {coll_name}':^40s} ---\")\n",
    "#         names = coll.distinct(\"name\")\n",
    "        \n",
    "#         dict_caco_names[coll_name.replace(\"week\", \"min\")] = names\n",
    "#         for i,n in enumerate(names):\n",
    "#             print(f\"{i:4.0f} : {n}\")"
   ]
  },
  {
   "cell_type": "code",
   "execution_count": 5,
   "id": "16988ea7-4816-4039-9470-320f61a5dca8",
   "metadata": {
    "tags": []
   },
   "outputs": [],
   "source": [
    "# %%time\n",
    "\n",
    "# def get_records(mongo_client, database_name, collection_name, query):\n",
    "#     collection = mongo_client[database_name][collection_name]\n",
    "#     response   = collection.find(query)\n",
    "#     records = tuple(doc for doc in response)    \n",
    "#     return records\n",
    "# query = None\n",
    "\n",
    "# if read_db:\n",
    "    \n",
    "#     # Reading TCU database\n",
    "#     print(\"Reading TCU database\")\n",
    "#     records_tcu  = get_records(client_tcu,  \"lst1_obs_summary\", \"camera\", query)\n",
    "\n",
    "#     # Reading CaCo database\n",
    "#     print(\"Reading CaCo database\")\n",
    "#     records_caco = get_records(client_caco, \"CACO\", \"RUN_INFORMATION\", query)  \n",
    "    \n",
    "#     # Saving the objects\n",
    "#     with open(\"objects/records_tcu.pkl\", \"wb\") as f:\n",
    "#         pickle.dump(records_tcu, f, pickle.HIGHEST_PROTOCOL)\n",
    "#     with open(\"objects/records_caco.pkl\", \"wb\") as f:\n",
    "#         pickle.dump(records_caco, f, pickle.HIGHEST_PROTOCOL)\n",
    "\n",
    "# else:\n",
    "    \n",
    "#     # Reading the saved objects\n",
    "#     with open(\"objects/records_tcu.pkl\", \"rb\") as f:\n",
    "#         records_tcu = pickle.load(f)\n",
    "#     with open(\"objects/records_caco.pkl\", \"rb\") as f:\n",
    "#         records_caco = pickle.load(f)"
   ]
  },
  {
   "cell_type": "code",
   "execution_count": 6,
   "id": "b4b7abf9-e057-4426-b8ba-cf2a6af87336",
   "metadata": {
    "tags": []
   },
   "outputs": [],
   "source": [
    "dict_caco_states = {0 : \"OFF\", 1 : \"DATA_MONITORING\", 2 : \"MONITORED\", 3 : \"SAFE\", 4 : \"STANDBY\",\n",
    "                    5 : \"READY\", 6 : \"OBSERVING\", 7 : \"TPOINT\", 8 : \"UNDEFINED\", 9 : \"TRANSITIONAL\", 10 : \"ERROR\"}\n",
    "dict_caco_state_colors = {0 : \"k\", 1 : \"darkviolet\", 2 : \"darkviolet\", 3 : \"lime\", 4 : \"gold\",\n",
    "                          5 : \"c\", 6 : \"darkblue\", 7 : \"b\", 8 : \"r\", 9 : \"darkorange\", 10 : \"r\"}\n",
    "\n",
    "variable_tcu = \"CameraControl_FSM_state\"\n",
    "tstart = datetime.fromisoformat(\"2024-02-25-00:00:00\")\n",
    "tstop  = datetime.fromisoformat(\"2024-04-01-00:00:00\")\n",
    "\n",
    "\n",
    "out_tcu = lst1_mongodb_example.get_entries(client_tcu, variable_tcu, astropy_time=False, tstart=tstart, tstop=tstop)\n",
    "date_tcu, value_tcu = np.array(out_tcu[\"time\"]), np.array(out_tcu[\"value\"])\n",
    "\n",
    "value_str_tcu = np.array([dict_caco_states[v] for v in value_tcu])"
   ]
  },
  {
   "cell_type": "code",
   "execution_count": 7,
   "id": "096482f0-2eb9-4db5-8a8e-57961479ee7f",
   "metadata": {},
   "outputs": [
    {
     "data": {
      "image/png": "[encoded data removed]",
      "text/plain": [
       "<Figure size 1000x400 with 1 Axes>"
      ]
     },
     "metadata": {},
     "output_type": "display_data"
    }
   ],
   "source": [
    "fig, ax = plt.subplots(figsize=(10, 4))\n",
    "for key in dict_caco_states:\n",
    "    mask_key = (value_tcu == key)\n",
    "    ax.plot(date_tcu[mask_key], value_str_tcu[mask_key], marker=\".\", ls=\"\", color=dict_caco_state_colors[key])\n",
    "ax.grid()\n",
    "plt.show()"
   ]
  },
  {
   "cell_type": "markdown",
   "id": "e86ca9c5-e91c-4930-9337-f79ae8e1c9b3",
   "metadata": {},
   "source": [
    "#### Extracting the timespans of each state"
   ]
  },
  {
   "cell_type": "code",
   "execution_count": 8,
   "id": "a3fed8c7-5b6e-43ee-9098-b5294c16770e",
   "metadata": {
    "tags": []
   },
   "outputs": [],
   "source": [
    "# Creating a timespan dictionary for each key\n",
    "timespans_dict = {}\n",
    "for key in dict_caco_states.keys():\n",
    "    timespans_dict[key] = {\"tstart\" : [], \"tstop\" : [], \"tspan\" : []}\n",
    "\n",
    "before_state = value_tcu[0]\n",
    "initial_time = date_tcu[0]\n",
    "for i in range(len(value_tcu))[1:]:\n",
    "    \n",
    "    actual_state = value_tcu[i]\n",
    "\n",
    "    if before_state != actual_state:\n",
    "        final_time = date_tcu[i]\n",
    "\n",
    "        timespans_dict[actual_state][\"tstart\"].append(initial_time)\n",
    "        timespans_dict[actual_state][\"tstop\"].append(final_time)\n",
    "        \n",
    "        timespans_dict[actual_state][\"tspan\"].append((final_time - initial_time).total_seconds())\n",
    "\n",
    "        initial_time = date_tcu[i]\n",
    "        \n",
    "    before_state = actual_state"
   ]
  },
  {
   "cell_type": "markdown",
   "id": "f408401c-a851-4e99-9218-0fe5d75bb060",
   "metadata": {},
   "source": [
    "#### Getting all TCU property names"
   ]
  },
  {
   "cell_type": "code",
   "execution_count": 9,
   "id": "c8ada2cb-0400-47a2-b5ba-671acbe0ebef",
   "metadata": {
    "tags": []
   },
   "outputs": [
    {
     "name": "stdout",
     "output_type": "stream",
     "text": [
      "There are 1159 TCU properties in total\n",
      "There are 498 TCU Camera-related properties in total\n"
     ]
    }
   ],
   "source": [
    "string_properties = !python lst1_mongodb_example.py --list-available\n",
    "all_tcu_properties = np.array([s.split(\" : \")[-1] for s in string_properties[3:]])\n",
    "\n",
    "camera_related_tcu_properties = []\n",
    "non_camera_properties_prefix = [\"AMC_\", \"AuxControl_\", \"CDM2_\", \"DriveControl_\", \"SecurityBrokerControl_\"]\n",
    "\n",
    "for p in all_tcu_properties:\n",
    "    flag_camera = True\n",
    "    for non_p in non_camera_properties_prefix:\n",
    "        if non_p in p:\n",
    "            flag_camera = False\n",
    "            break\n",
    "    if flag_camera:\n",
    "        camera_related_tcu_properties.append(p)\n",
    "\n",
    "print(f\"There are {len(all_tcu_properties)} TCU properties in total\")\n",
    "print(f\"There are {len(camera_related_tcu_properties)} TCU Camera-related properties in total\")"
   ]
  },
  {
   "cell_type": "code",
   "execution_count": null,
   "id": "9630be2f-bd82-4525-b9e0-07da7b7cf0c1",
   "metadata": {},
   "outputs": [
    {
     "name": "stdout",
     "output_type": "stream",
     "text": [
      "0/50\n",
      "Finding data of property CameraControl_RunUtils_is_test...\n",
      "Extracting for state 1 : DATA_MONITORING\n",
      "Extracting for state 2 : MONITORED\n",
      "Extracting for state 3 : SAFE\n",
      "Running over timespans... 0/56\n"
     ]
    }
   ],
   "source": [
    "array = camera_related_tcu_properties[50:100]\n",
    "for i, prop in enumerate(array):\n",
    "    print(f\"{i}/{len(array)}\")\n",
    "    # # Construct the SLURM command\n",
    "    # output_file = \"/fefs/aswg/workspace/juan.jimenez/access_tcu_caco_database/objects/output_slurm/slurm_job-%j.out\"\n",
    "    # slurm_command = f\"sbatch -p short --wrap='python script_get_property_size.py {prop}'\"\n",
    "    \n",
    "    # # Submit the job using subprocess\n",
    "    # result = subprocess.run(slurm_command, shell=True, capture_output=True, text=True)\n",
    "    \n",
    "    # # Print the result to see if the submission was successful\n",
    "    # print(result.stdout)\n",
    "    # if result.stderr:\n",
    "    #     print(f\"Error: {result.stderr}\")\n",
    "\n",
    "    !python script_get_property_size.py $prop\n",
    "    "
   ]
  },
  {
   "cell_type": "markdown",
   "id": "a8d43645-1024-4e07-b2f6-ba06bb69aea5",
   "metadata": {},
   "source": [
    "#### **Here we are doing the trick of extracting the size of a chunk for each property of the TCU database**"
   ]
  },
  {
   "cell_type": "code",
   "execution_count": null,
   "id": "f8ae90d3-9385-46fb-890b-cc8c8334873a",
   "metadata": {
    "scrolled": true,
    "tags": []
   },
   "outputs": [],
   "source": [
    "dict_tcu_property_bytes = {}\n",
    "for p in camera_related_tcu_properties:\n",
    "    dict_tcu_property_bytes[p] = 0\n",
    "    \n",
    "# Taking the main collections and chunks pointers\n",
    "property_collection = client_tcu['bridgesmonitoring']['properties']\n",
    "chunk_collection = client_tcu['bridgesmonitoring']['chunks']\n",
    "\n",
    "for ip, _property in enumerate(camera_related_tcu_properties):\n",
    "    \n",
    "    descriptors = property_collection.find({'property_name': _property})\n",
    "\n",
    "    for desc in descriptors:\n",
    "        query = {'pid': desc['_id']}\n",
    "        query.update({\"begin\": {\"$gte\": tstart}, \"end\": {\"$lte\": tstop}})\n",
    "\n",
    "        chunks = chunk_collection.find(query)\n",
    "        for chunk in chunks:\n",
    "\n",
    "            bson_data = bson.BSON.encode(chunk)\n",
    "            size_in_bytes = len(bson_data)\n",
    "\n",
    "            dict_tcu_property_bytes[_property] = size_in_bytes\n",
    "            \n",
    "            break\n",
    "    print(f\"{ip/len(camera_related_tcu_properties)*100:2.3f}% Extracting bytes of {_property}\")"
   ]
  },
  {
   "cell_type": "markdown",
   "id": "3c2a1cf7-583f-41bd-8ac2-5dbca2033073",
   "metadata": {},
   "source": [
    "#### Getting the number of entries for each state and timespan, so then the bytes"
   ]
  },
  {
   "cell_type": "code",
   "execution_count": null,
   "id": "60cac69c-49e0-485f-a5ed-bd20765a1087",
   "metadata": {
    "scrolled": true,
    "tags": []
   },
   "outputs": [],
   "source": [
    "%%time\n",
    "# Creating a dictionary to store the information\n",
    "event_dict = {}\n",
    "for key in dict_caco_states.keys():\n",
    "    event_dict[key] = np.repeat(0, len(timespans_dict[key][\"tstart\"]))\n",
    "\n",
    "# Taking the main collections and chunks pointers\n",
    "property_collection = client_tcu['bridgesmonitoring']['properties']\n",
    "chunk_collection = client_tcu['bridgesmonitoring']['chunks']\n",
    "\n",
    "for p, _property in enumerate(camera_related_tcu_properties):\n",
    "    print(f\"Finding data of property {_property}... {p}/{len(camera_related_tcu_properties)}\") if p % 1 == 0 else None\n",
    "    descriptors = property_collection.find({'property_name': _property})\n",
    "\n",
    "    for desc in descriptors:\n",
    "        for state in dict_caco_states.keys():\n",
    "            print(f\"Extracting for state {state} : {dict_caco_states[state]}\")\n",
    "            # print(f\"The number of timespans is -> {len(timespans_dict[state]['tstart'])}\")\n",
    "\n",
    "            # Then running for all the timespans\n",
    "            for i in range(len(timespans_dict[state][\"tstart\"]))[:]:\n",
    "\n",
    "                _tstart = timespans_dict[state][\"tstart\"][i]\n",
    "                _tstop  = timespans_dict[state][\"tstop\"][i]\n",
    "                # _center_time = _tstart + (_tstop - _tstart) / 2\n",
    "                # _timespan = (_tstop - _tstart).total_seconds()\n",
    "\n",
    "                # print(f\"From {_tstart} to {_tstop}, a total of {_timespan:.0f} seconds\")\n",
    "                print(f\"Running over timespans... {i}/{len(timespans_dict[state]['tstart'])}\") if i% 400 == 0 else None\n",
    "                \n",
    "                query = {'pid': desc['_id']}\n",
    "                query.update({\"begin\": {\"$gte\": _tstart}, \"end\": {\"$lte\": _tstop}})\n",
    "\n",
    "                number_chunks = chunk_collection.count_documents(query)\n",
    "\n",
    "                # event_dict[state]['timestamp'].append(_center_time)\n",
    "                event_dict[state][i] += number_chunks * dict_tcu_property_bytes[_property]"
   ]
  },
  {
   "cell_type": "code",
   "execution_count": null,
   "id": "c90735ab-9972-4bb4-b709-2df28b1cd385",
   "metadata": {},
   "outputs": [],
   "source": [
    "# # Saving the object\n",
    "# with open(f\"objects/event_dict_state_{state}.pkl\", \"wb\") as f:\n",
    "#     pickle.dump(event_dict, f, pickle.HIGHEST_PROTOCOL)\n",
    "    \n",
    "# # Reading the saved objects\n",
    "# with open(f\"objects/event_dict_state_{state}.pkl\", \"rb\") as f:\n",
    "#     event_dict = pickle.load(f)"
   ]
  }
 ],
 "metadata": {
  "kernelspec": {
   "display_name": "Python 3 (ipykernel)",
   "language": "python",
   "name": "python3"
  },
  "language_info": {
   "codemirror_mode": {
    "name": "ipython",
    "version": 3
   },
   "file_extension": ".py",
   "mimetype": "text/x-python",
   "name": "python",
   "nbconvert_exporter": "python",
   "pygments_lexer": "ipython3",
   "version": "3.11.6"
  }
 },
 "nbformat": 4,
 "nbformat_minor": 5
}
